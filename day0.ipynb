{
 "cells": [
  {
   "cell_type": "markdown",
   "metadata": {
    "collapsed": false,
    "nbpresent": {
     "id": "b4654f5d-7dc0-47ee-b0fa-d99ddeb692a2"
    }
   },
   "source": [
    "# day 0"
   ]
  },
  {
   "cell_type": "markdown",
   "metadata": {
    "nbpresent": {
     "id": "90deb118-6454-4b43-af66-30460f554214"
    }
   },
   "source": [
    "## 0.4 Python"
   ]
  },
  {
   "cell_type": "markdown",
   "metadata": {
    "nbpresent": {
     "id": "de6fe049-7162-427b-bbfb-ef2ede34ffb4"
    }
   },
   "source": [
    "### 0.4.4 Matplotlib"
   ]
  },
  {
   "cell_type": "code",
   "execution_count": null,
   "metadata": {
    "collapsed": true,
    "nbpresent": {
     "id": "f9305c0c-ec99-4e96-92f5-91fb33363b89"
    }
   },
   "outputs": [],
   "source": [
    "#\n",
    "# Exercise 0.5\n",
    "# \n",
    "\n",
    "# This will import the numpy library\n",
    "# and give it the np abbreviation\n",
    "import numpy as np\n",
    "\n",
    "# This will import the plotting library\n",
    "import matplotlib.pyplot as plt\n",
    "\n",
    "# Linspace will return 1000 points,\n",
    "# evenly spaced between -4 and +4\n",
    "X = np.linspace(-4, 4, 1000)\n",
    "\n",
    "# Y[i] = X[i]**2\n",
    "Y = X ** 2\n",
    "\n",
    "# Plot using a red line ('r')\n",
    "plt.plot(X, Y, 'r')\n",
    "\n",
    "# arange returns integers ranging from -4 to +4\n",
    "# (the upper argument is excluded!)\n",
    "Ints = np.arange(-4, 5)\n",
    "\n",
    "# We plot these on top of the previous plot\n",
    "# using blue circles (o means a little circle)\n",
    "plt.plot(Ints, Ints ** 2, 'bo')\n",
    "\n",
    "# You may notice that the plot is tight around the line\n",
    "# Set the display limits to see better\n",
    "plt.xlim(-4.5, 4.5)\n",
    "plt.ylim(-1, 17)\n",
    "plt.show()"
   ]
  },
  {
   "cell_type": "markdown",
   "metadata": {
    "nbpresent": {
     "id": "c346e665-26c7-4bb0-b471-06b8b7fb0eb5"
    }
   },
   "source": [
    "### 0.4.5 Numpy"
   ]
  },
  {
   "cell_type": "code",
   "execution_count": null,
   "metadata": {
    "collapsed": false,
    "nbpresent": {
     "id": "b7ae8fb1-f769-4ab4-89e7-a6bfcc81f097"
    }
   },
   "outputs": [],
   "source": [
    "A = np.arange(0.0, 1000.0)\n",
    "\n",
    "A_f = ((A / 1000.0) ** 2) / 1000.0\n",
    "\n",
    "result = np.sum(A_f)\n",
    "\n",
    "print result"
   ]
  },
  {
   "cell_type": "markdown",
   "metadata": {},
   "source": [
    "## 0.5 Essencial Linear Algebra"
   ]
  },
  {
   "cell_type": "code",
   "execution_count": null,
   "metadata": {
    "collapsed": false
   },
   "outputs": [],
   "source": [
    "import numpy as np\n",
    "\n",
    "m = 3\n",
    "n = 2\n",
    "a = np.zeros([m, n])\n",
    "\n",
    "print a\n",
    "print a.shape\n",
    "print a.dtype.name\n",
    "\n",
    "a = np.array([[2, 3], [5, 4]])\n",
    "b = np.array([[1, 1], [1, 1]])\n",
    "\n",
    "d = np.dot(a, b)  # MATRIX multiplication\n",
    "print d\n",
    "\n",
    "print a\n",
    "print a.T\n",
    "\n",
    "a = np.array([1, 2])\n",
    "b = np.array([1, 1])\n",
    "print np.dot(a, b)  # VECTOR dot (inner) product\n",
    "print np.outer(a, b)  # VECTOR cross (outer) product\n",
    "\n",
    "print np.eye(2)"
   ]
  },
  {
   "cell_type": "markdown",
   "metadata": {},
   "source": [
    "## 0.6 Probability Theory"
   ]
  },
  {
   "cell_type": "code",
   "execution_count": null,
   "metadata": {
    "collapsed": false
   },
   "outputs": [],
   "source": [
    "import numpy as np\n",
    "import matplotlib.pyplot as plt\n",
    "import lxmls.readers.galton as galton\n",
    "\n",
    "galton_data = galton.load()\n",
    "\n",
    "print np.mean(galton_data)\n",
    "print np.std(galton_data)\n",
    "\n",
    "# plt.hist(galton_data)\n",
    "# plt.show()\n",
    "\n",
    "# d = np.ravel(galton_data)\n",
    "# plt.hist(d)\n",
    "# plt.show()\n",
    "\n",
    "dim1, dim2 = galton_data.shape\n",
    "\n",
    "r = galton_data + np.random.randn(dim1, dim2)\n",
    "plt.hist(r)\n",
    "plt.show()"
   ]
  },
  {
   "cell_type": "markdown",
   "metadata": {},
   "source": [
    "## 0.7 Numerical Optimization"
   ]
  },
  {
   "cell_type": "markdown",
   "metadata": {},
   "source": [
    "### 0.7.2 Derivative and gradient"
   ]
  },
  {
   "cell_type": "code",
   "execution_count": null,
   "metadata": {
    "collapsed": true
   },
   "outputs": [],
   "source": [
    "#\n",
    "# Exercise 0.11\n",
    "#\n",
    "\n",
    "import numpy as np\n",
    "import matplotlib.pyplot as plt\n",
    "\n",
    "a = np.arange(-5, 5, 0.01)\n",
    "f_x = np.power(a, 2)\n",
    "\n",
    "plt.plot(a, f_x)\n",
    "plt.xlim(-5, 5)\n",
    "plt.ylim(-5, 15)\n",
    "\n",
    "k = np.array([-2, 0, 2])\n",
    "plt.plot(k, k ** 2, \"bo\")\n",
    "\n",
    "for i in k:\n",
    "    plt.plot(a, (2 * i) * a - (i ** 2))\n",
    "\n",
    "plt.show()"
   ]
  },
  {
   "cell_type": "markdown",
   "metadata": {},
   "source": [
    "### 0.7.3 Gradient based methods"
   ]
  },
  {
   "cell_type": "code",
   "execution_count": null,
   "metadata": {
    "collapsed": true
   },
   "outputs": [],
   "source": [
    "def get_y(x):\n",
    "    return (x + 2) ** 2 - 16 * np.exp(-((x - 2) ** 2))\n",
    "\n",
    "def get_grad(x):\n",
    "    return (2 * x + 4) - 16 * (-2 * x + 4) * np.exp(-((x - 2) ** 2))\n",
    "\n",
    "\n",
    "def gradient_descent(start_x, func, grad):\n",
    "    # Precision of the solution\n",
    "    prec = 0.0001\n",
    "    # Use a fixed small step size\n",
    "    step_size = 0.1\n",
    "    # max iterations\n",
    "    max_iter = 100\n",
    "    x_new = start_x\n",
    "    res = []\n",
    "    for i in xrange(max_iter):\n",
    "        x_old = x_new\n",
    "        # Use beta equal to -1 for gradient descent\n",
    "        x_new = x_old - step_size * grad(x_new)\n",
    "        f_x_new = func(x_new)\n",
    "        f_x_old = func(x_old)\n",
    "        res.append([x_new, f_x_new])\n",
    "        if abs(f_x_new - f_x_old) < prec:\n",
    "            print \"change in function values too small, leaving\"\n",
    "            return np.array(res)\n",
    "    print \"exceeded maximum number of iterations, leaving\"\n",
    "    return np.array(res)\n",
    "\n",
    "\n",
    "x_0 = -8\n",
    "res = gradient_descent(x_0, get_y, get_grad)\n",
    "plt.plot(res[:, 0], res[:, 1], '+')\n",
    "\n",
    "x_0 = 8\n",
    "res = gradient_descent(x_0, get_y, get_grad)\n",
    "plt.plot(res[:, 0], res[:, 1], '+')\n",
    "\n",
    "plt.show()"
   ]
  },
  {
   "cell_type": "markdown",
   "metadata": {},
   "source": [
    "## 0.8 Python exercises"
   ]
  },
  {
   "cell_type": "markdown",
   "metadata": {},
   "source": [
    "### 0.8.1"
   ]
  },
  {
   "cell_type": "code",
   "execution_count": null,
   "metadata": {
    "collapsed": true
   },
   "outputs": [],
   "source": [
    "import numpy as np\n",
    "import matplotlib.pyplot as plt\n",
    "\n",
    "\n",
    "def get_y(x):\n",
    "    return (x + 2) ** 2 - 16 * np.exp(-((x - 2) ** 2))\n",
    "\n",
    "\n",
    "def get_grad(x):\n",
    "    return (2 * x + 4) - 16 * (-2 * x + 4) * np.exp(-((x - 2) ** 2))\n",
    "\n",
    "\n",
    "def grad_desc(start_x, eps, prec):\n",
    "    \"\"\"\n",
    "    runs the gradient descent algorithm and returns the list of estimates\n",
    "    example of use grad_desc(start_x=3.9, eps=0.01, prec=0.00001)\n",
    "    \"\"\"\n",
    "    x_new = start_x\n",
    "    x_old = start_x + prec * 2\n",
    "    res = [x_new]\n",
    "    while abs(x_old - x_new) > prec:\n",
    "        x_old = x_new\n",
    "        x_new = x_old - eps * get_grad(x_new)\n",
    "        res.append(x_new)\n",
    "    return np.array(res)\n",
    "\n",
    "\n",
    "result = grad_desc(-4, 0.01, 0.0001)\n",
    "\n",
    "dim1 = np.shape(result)\n",
    "x = xrange(np.int(dim1[0]))\n",
    "\n",
    "plt.plot(x, result, '+')\n",
    "\n",
    "result = grad_desc(4, 0.01, 0.00001)\n",
    "\n",
    "dim1 = np.shape(result)\n",
    "x = xrange(np.int(dim1[0]))\n",
    "\n",
    "plt.plot(x, result, '+')\n",
    "\n",
    "plt.show()"
   ]
  },
  {
   "cell_type": "markdown",
   "metadata": {},
   "source": [
    "#### Exercise 0.14"
   ]
  },
  {
   "cell_type": "markdown",
   "metadata": {},
   "source": [
    "Using numpy.linalg.lstsq"
   ]
  },
  {
   "cell_type": "code",
   "execution_count": null,
   "metadata": {
    "collapsed": false
   },
   "outputs": [],
   "source": [
    "run ./day0/ex0_12(lib).py"
   ]
  },
  {
   "cell_type": "markdown",
   "metadata": {},
   "source": [
    "Using the error function suggested in the handout"
   ]
  },
  {
   "cell_type": "code",
   "execution_count": 1,
   "metadata": {
    "collapsed": false
   },
   "outputs": [
    {
     "name": "stdout",
     "output_type": "stream",
     "text": [
      "change in function values too small, leaving\n"
     ]
    }
   ],
   "source": [
    "run ./day0/ex0-12.py"
   ]
  }
 ],
 "metadata": {
  "anaconda-cloud": {},
  "kernelspec": {
   "display_name": "Python [Root]",
   "language": "python",
   "name": "Python [Root]"
  },
  "language_info": {
   "codemirror_mode": {
    "name": "ipython",
    "version": 2
   },
   "file_extension": ".py",
   "mimetype": "text/x-python",
   "name": "python",
   "nbconvert_exporter": "python",
   "pygments_lexer": "ipython2",
   "version": "2.7.12"
  },
  "nbpresent": {
   "slides": {
    "2f2202d9-4d98-45e3-9dd4-f38d9836bc75": {
     "id": "2f2202d9-4d98-45e3-9dd4-f38d9836bc75",
     "layout": "grid",
     "prev": null,
     "regions": {
      "ef706d93-041e-402f-9fa8-de14b7482674": {
       "attrs": {
        "height": 1,
        "pad": 0.01,
        "width": 1,
        "x": 0,
        "y": 0
       },
       "content": {
        "cell": "b4654f5d-7dc0-47ee-b0fa-d99ddeb692a2",
        "part": "whole"
       },
       "id": "ef706d93-041e-402f-9fa8-de14b7482674"
      }
     },
     "theme": null
    },
    "af2d88ca-6897-4a33-ab93-276117efc72d": {
     "id": "af2d88ca-6897-4a33-ab93-276117efc72d",
     "prev": "2f2202d9-4d98-45e3-9dd4-f38d9836bc75",
     "regions": {
      "400276b2-a88e-4218-acc2-ea4dbea5081e": {
       "attrs": {
        "height": 0.05326278659611993,
        "width": 0.8,
        "x": 0.1,
        "y": 0.19770723104056437
       },
       "content": {
        "cell": "de6fe049-7162-427b-bbfb-ef2ede34ffb4",
        "part": "whole"
       },
       "id": "400276b2-a88e-4218-acc2-ea4dbea5081e",
       "width": 0.8,
       "y": 0.3
      },
      "834c0c45-0e66-4159-9318-4d898d42c0ed": {
       "attrs": {
        "height": 0.08077601410934744,
        "width": 0.8,
        "x": 0.1,
        "y": 0.09811875367430924
       },
       "content": {
        "cell": "90deb118-6454-4b43-af66-30460f554214",
        "part": "whole"
       },
       "height": 0.2,
       "id": "834c0c45-0e66-4159-9318-4d898d42c0ed"
      },
      "9c21f4a7-b596-448d-afc4-f1f9cf1a2aca": {
       "attrs": {
        "height": 0.6326866549088771,
        "width": 0.8063492063492064,
        "x": 0.09841269841269853,
        "y": 0.26731334509112287
       },
       "content": {
        "cell": "f9305c0c-ec99-4e96-92f5-91fb33363b89",
        "part": "whole"
       },
       "id": "9c21f4a7-b596-448d-afc4-f1f9cf1a2aca",
       "width": 0.8,
       "x": 0.1,
       "y": 0.4
      }
     }
    }
   },
   "themes": {}
  }
 },
 "nbformat": 4,
 "nbformat_minor": 0
}
