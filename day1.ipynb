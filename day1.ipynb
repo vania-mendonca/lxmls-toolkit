{
 "cells": [
  {
   "cell_type": "code",
   "execution_count": null,
   "metadata": {
    "collapsed": false,
    "scrolled": true
   },
   "outputs": [],
   "source": [
    "run ./day1/Ex1_1.py"
   ]
  },
  {
   "cell_type": "code",
   "execution_count": 3,
   "metadata": {
    "collapsed": false
   },
   "outputs": [
    {
     "name": "stdout",
     "output_type": "stream",
     "text": [
      "Rounds: 0 Accuracy: 0.900000\n",
      "[[ 1.         -1.        ]\n",
      " [-1.50861316  1.50861316]\n",
      " [-1.10069988  1.10069988]]\n",
      "Rounds: 1 Accuracy: 0.920000\n",
      "Rounds: 2 Accuracy: 0.940000\n",
      "Rounds: 3 Accuracy: 0.940000\n",
      "Rounds: 4 Accuracy: 0.940000\n",
      "Rounds: 5 Accuracy: 0.920000\n",
      "[[ 0.          0.        ]\n",
      " [-0.61771874  0.61771874]\n",
      " [-2.11950543  2.11950543]]\n",
      "Rounds: 6 Accuracy: 0.900000\n",
      "Rounds: 7 Accuracy: 0.920000\n",
      "Rounds: 8 Accuracy: 0.920000\n",
      "Rounds: 9 Accuracy: 0.920000\n",
      "Perceptron Simple Dataset Accuracy train: 0.920000 test: 0.980000\n",
      "[[-1.69314718 -1.69314718]\n",
      " [-1.          1.        ]\n",
      " [-1.          1.        ]]\n"
     ]
    }
   ],
   "source": [
    "run ./day1/Ex1_2.py"
   ]
  },
  {
   "cell_type": "code",
   "execution_count": 2,
   "metadata": {
    "collapsed": false
   },
   "outputs": [
    {
     "name": "stderr",
     "output_type": "stream",
     "text": [
      "lxmls\\readers\\simple_data_set.py:18: VisibleDeprecationWarning: using a non-integer number instead of an integer will result in an error in the future\n",
      "  X_pos_1 = np.random.normal(g1[0][0], g1[1], [nr_positive, 1])\n",
      "lxmls\\readers\\simple_data_set.py:19: VisibleDeprecationWarning: using a non-integer number instead of an integer will result in an error in the future\n",
      "  X_pos_2 = np.random.normal(g1[0][1], g1[1], [nr_positive, 1])\n",
      "lxmls\\readers\\simple_data_set.py:21: VisibleDeprecationWarning: using a non-integer number instead of an integer will result in an error in the future\n",
      "  X_neg_1 = np.random.normal(g2[0][0], g2[1], [nr_negative, 1])\n",
      "lxmls\\readers\\simple_data_set.py:22: VisibleDeprecationWarning: using a non-integer number instead of an integer will result in an error in the future\n",
      "  X_neg_2 = np.random.normal(g2[0][1], g2[1], [nr_negative, 1])\n",
      "lxmls\\readers\\simple_data_set.py:24: VisibleDeprecationWarning: using a non-integer number instead of an integer will result in an error in the future\n",
      "  y_pos = np.zeros([nr_positive, 1], dtype=np.int)\n",
      "C:\\Users\\Vania\\Anaconda2\\lib\\site-packages\\numpy\\core\\numeric.py:190: VisibleDeprecationWarning: using a non-integer number instead of an integer will result in an error in the future\n",
      "  a = empty(shape, dtype, order)\n"
     ]
    },
    {
     "name": "stdout",
     "output_type": "stream",
     "text": [
      "Rounds: 0 Accuracy: 0.780000\n",
      "Rounds: 1 Accuracy: 0.780000\n",
      "Rounds: 2 Accuracy: 0.880000\n",
      "Rounds: 3 Accuracy: 0.720000\n",
      "Rounds: 4 Accuracy: 0.740000\n",
      "Rounds: 5 Accuracy: 0.880000\n",
      "Rounds: 6 Accuracy: 0.880000\n",
      "Rounds: 7 Accuracy: 0.860000\n",
      "Rounds: 8 Accuracy: 0.900000\n",
      "Rounds: 9 Accuracy: 0.700000\n",
      "Mira SimpleDataset Accuracy train: 0.880000 test: 0.960000\n",
      "[[-1.69314718 -1.69314718]\n",
      " [-1.          1.        ]\n",
      " [-1.          1.        ]]\n"
     ]
    }
   ],
   "source": [
    "run ./day1/Ex1_3.py"
   ]
  }
 ],
 "metadata": {
  "anaconda-cloud": {},
  "kernelspec": {
   "display_name": "Python [Root]",
   "language": "python",
   "name": "Python [Root]"
  },
  "language_info": {
   "codemirror_mode": {
    "name": "ipython",
    "version": 2
   },
   "file_extension": ".py",
   "mimetype": "text/x-python",
   "name": "python",
   "nbconvert_exporter": "python",
   "pygments_lexer": "ipython2",
   "version": "2.7.12"
  }
 },
 "nbformat": 4,
 "nbformat_minor": 0
}
