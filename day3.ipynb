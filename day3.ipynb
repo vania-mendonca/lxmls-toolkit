{
 "cells": [
  {
   "cell_type": "code",
   "execution_count": 1,
   "metadata": {
    "collapsed": false,
    "scrolled": true
   },
   "outputs": [
    {
     "name": "stdout",
     "output_type": "stream",
     "text": [
      "Perceptron Exercise\n",
      "Epoch: 0 Accuracy: 0.664165\n",
      "Epoch: 1 Accuracy: 0.839441\n",
      "Epoch: 2 Accuracy: 0.896247\n",
      "Epoch: 3 Accuracy: 0.919647\n",
      "Epoch: 4 Accuracy: 0.929801\n",
      "Epoch: 5 Accuracy: 0.935982\n",
      "Epoch: 6 Accuracy: 0.943929\n",
      "Epoch: 7 Accuracy: 0.950258\n",
      "Epoch: 8 Accuracy: 0.961295\n",
      "Epoch: 9 Accuracy: 0.965710\n",
      "Epoch: 10 Accuracy: 0.965857\n",
      "Epoch: 11 Accuracy: 0.966446\n",
      "Epoch: 12 Accuracy: 0.963355\n",
      "Epoch: 13 Accuracy: 0.968506\n",
      "Epoch: 14 Accuracy: 0.970714\n",
      "Epoch: 15 Accuracy: 0.974393\n",
      "Epoch: 16 Accuracy: 0.969831\n",
      "Epoch: 17 Accuracy: 0.970714\n",
      "Epoch: 18 Accuracy: 0.972038\n",
      "Epoch: 19 Accuracy: 0.975129\n",
      "Structured Perceptron - ID Features Accuracy Train: 0.984 Dev: 0.825 Test: 0.808\n"
     ]
    }
   ],
   "source": [
    "run ./day3/Ex3_3.py"
   ]
  }
 ],
 "metadata": {
  "anaconda-cloud": {},
  "kernelspec": {
   "display_name": "Python [Root]",
   "language": "python",
   "name": "Python [Root]"
  },
  "language_info": {
   "codemirror_mode": {
    "name": "ipython",
    "version": 2
   },
   "file_extension": ".py",
   "mimetype": "text/x-python",
   "name": "python",
   "nbconvert_exporter": "python",
   "pygments_lexer": "ipython2",
   "version": "2.7.12"
  }
 },
 "nbformat": 4,
 "nbformat_minor": 0
}
